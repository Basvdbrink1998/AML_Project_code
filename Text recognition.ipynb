{
 "cells": [
  {
   "cell_type": "code",
   "execution_count": null,
   "metadata": {},
   "outputs": [],
   "source": []
  },
  {
   "cell_type": "code",
   "execution_count": null,
   "metadata": {},
   "outputs": [],
   "source": [
    "import pytesseract\n",
    "pytesseract.pytesseract.tesseract_cmd = r'C:\\Program Files\\Tesseract-OCR\\tesseract.exe'\n",
    "import cv2\n",
    "import matplotlib.pyplot as plt\n",
    "from string import digits\n",
    "import re\n",
    "import pandas as pd\n",
    "import numpy as np"
   ]
  },
  {
   "cell_type": "code",
   "execution_count": null,
   "metadata": {},
   "outputs": [],
   "source": [
    "image = cv2.imread('../test_set/test_set/test_61.jpg')\n",
    "gray_image = cv2.cvtColor(image, cv2.COLOR_BGR2GRAY)\n",
    "threshold_img = cv2.threshold(gray_image, 0, 255, cv2.THRESH_BINARY | cv2.THRESH_OTSU)[1]\n",
    "image_labels = pd.read_csv(\"Label_names.csv\")"
   ]
  },
  {
   "cell_type": "code",
   "execution_count": null,
   "metadata": {},
   "outputs": [],
   "source": [
    "def clean_string(string):\n",
    "    remove_digits = str.maketrans('', '', '\\n')\n",
    "    string = string.translate(remove_digits)\n",
    "    regex = re.compile('[^a-zA-Z]')\n",
    "    string = regex.sub('', string)\n",
    "    return string.lower()\n",
    "    \n",
    "clean_string(details)"
   ]
  },
  {
   "cell_type": "code",
   "execution_count": null,
   "metadata": {},
   "outputs": [],
   "source": [
    "custom_config = r'--oem 3 --psm 6'\n",
    "\n",
    "def get_text(image):\n",
    "    gray_image = cv2.cvtColor(image, cv2.COLOR_BGR2GRAY)\n",
    "    threshold_img = cv2.threshold(gray_image, 0, 255, cv2.THRESH_BINARY | cv2.THRESH_OTSU)[1]\n",
    "    details = pytesseract.image_to_string(threshold_img, config=custom_config, lang='eng')\n",
    "    return clean_string(details)"
   ]
  },
  {
   "cell_type": "code",
   "execution_count": null,
   "metadata": {},
   "outputs": [],
   "source": [
    "image = cv2.imread('../test_set/test_set/test_620.jpg')\n",
    "get_text(image)"
   ]
  },
  {
   "cell_type": "code",
   "execution_count": null,
   "metadata": {},
   "outputs": [],
   "source": [
    "image_labels.iloc[25]"
   ]
  },
  {
   "cell_type": "code",
   "execution_count": null,
   "metadata": {},
   "outputs": [],
   "source": [
    "label_translate = dict()\n",
    "for idx in image_labels.index:\n",
    "    label = image_labels.iloc[idx].values[0].split(' ')\n",
    "    for l in label:\n",
    "        if l != \"\":\n",
    "            label_translate[l] = idx + 1\n",
    "label_translate\n",
    "all_labels = list(label_translate.keys())"
   ]
  },
  {
   "cell_type": "code",
   "execution_count": null,
   "metadata": {},
   "outputs": [],
   "source": [
    "image = cv2.imread('../test_set/test_set/test_620.jpg')\n",
    "text = get_text(image)\n",
    "def get_label(text):\n",
    "    for l in all_labels:\n",
    "        if l.lower() in text:\n",
    "            return label_translate[l]\n",
    "    return 99\n",
    "            \n",
    "get_label(text)"
   ]
  },
  {
   "cell_type": "code",
   "execution_count": null,
   "metadata": {},
   "outputs": [],
   "source": [
    "import glob\n",
    "all_files = glob.glob(\"../test_set/test_set/test_*\")"
   ]
  },
  {
   "cell_type": "code",
   "execution_count": null,
   "metadata": {},
   "outputs": [],
   "source": [
    "c = 0\n",
    "results = dict()\n",
    "for path in all_files:\n",
    "    image = cv2.imread(path)\n",
    "    text = get_text(image)\n",
    "    label = get_label(text)\n",
    "    if label != 99:\n",
    "        results[path.split('\\\\')[-1]] = label\n",
    "    else:\n",
    "        results[path.split('\\\\')[-1]] = 1"
   ]
  },
  {
   "cell_type": "code",
   "execution_count": null,
   "metadata": {},
   "outputs": [],
   "source": []
  },
  {
   "cell_type": "code",
   "execution_count": null,
   "metadata": {},
   "outputs": [],
   "source": [
    "output = pd.DataFrame(results.items(), columns=['img_name', 'label'])\n",
    "print(output)\n",
    "output.to_csv(\"sample_submission_text.csv\", index=False)"
   ]
  },
  {
   "cell_type": "code",
   "execution_count": null,
   "metadata": {},
   "outputs": [],
   "source": []
  }
 ],
 "metadata": {
  "kernelspec": {
   "display_name": "Python 3",
   "language": "python",
   "name": "python3"
  },
  "language_info": {
   "codemirror_mode": {
    "name": "ipython",
    "version": 3
   },
   "file_extension": ".py",
   "mimetype": "text/x-python",
   "name": "python",
   "nbconvert_exporter": "python",
   "pygments_lexer": "ipython3",
   "version": "3.8.3"
  }
 },
 "nbformat": 4,
 "nbformat_minor": 4
}
